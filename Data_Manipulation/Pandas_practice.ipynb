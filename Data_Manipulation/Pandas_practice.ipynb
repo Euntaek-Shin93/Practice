{
  "nbformat": 4,
  "nbformat_minor": 0,
  "metadata": {
    "colab": {
      "name": "Pandas_practice.ipynb",
      "provenance": []
    },
    "kernelspec": {
      "name": "python3",
      "display_name": "Python 3"
    },
    "language_info": {
      "name": "python"
    }
  },
  "cells": [
    {
      "cell_type": "markdown",
      "metadata": {
        "id": "NxaNHT5i-I6y"
      },
      "source": [
        "#1. Load data"
      ]
    },
    {
      "cell_type": "code",
      "metadata": {
        "colab": {
          "base_uri": "https://localhost:8080/"
        },
        "id": "zQqKYxwB98ji",
        "outputId": "49445ef4-77dc-41d0-f725-22f6bcea813c"
      },
      "source": [
        "from google.colab import drive\n",
        "drive.mount('/gdrive')"
      ],
      "execution_count": 1,
      "outputs": [
        {
          "output_type": "stream",
          "text": [
            "Mounted at /gdrive\n"
          ],
          "name": "stdout"
        }
      ]
    },
    {
      "cell_type": "code",
      "metadata": {
        "colab": {
          "base_uri": "https://localhost:8080/"
        },
        "id": "5yWMgZ-2-Nr_",
        "outputId": "a779509f-85c0-4a31-a9eb-3941ee2262d0"
      },
      "source": [
        "!ls -al '/gdrive/MyDrive/datasets/'"
      ],
      "execution_count": 3,
      "outputs": [
        {
          "output_type": "stream",
          "text": [
            "total 2265789\n",
            "-rw------- 1 root root    337176 May  3 07:45 data_202101.csv\n",
            "-rw------- 1 root root    318040 May  3 07:49 data_202102.csv\n",
            "-rw------- 1 root root    348209 May  3 07:50 data_202103.csv\n",
            "-rw------- 1 root root   1003251 May  3 07:55 data_2021.csv\n",
            "-rw------- 1 root root     16128 Sep  3  2020 Dueling_0.9_B_2000_5.npy\n",
            "-rw------- 1 root root     16128 Sep  3  2020 Dueling_0.9_C_2000_5.npy\n",
            "-rw------- 1 root root     16128 Sep  3  2020 Dueling_1.05_B_2000_5.npy\n",
            "-rw------- 1 root root     16128 Sep  3  2020 Dueling_1.05_C_2000_5.npy\n",
            "-rw------- 1 root root     16128 Sep  3  2020 Dueling_1.1_B_2000_5.npy\n",
            "-rw------- 1 root root     16128 Sep  3  2020 Dueling_1.1_C_2000_5.npy\n",
            "-rw------- 1 root root     16128 Sep  3  2020 Dueling_1.25_B_2000_5.npy\n",
            "-rw------- 1 root root     16128 Sep  3  2020 Dueling_1.25_C_2000_5.npy\n",
            "-rw------- 1 root root     16128 Sep  3  2020 Dueling_1.5_B_2000_5.npy\n",
            "-rw------- 1 root root     16128 Sep  3  2020 Dueling_1.5_C_2000_5.npy\n",
            "-rw------- 1 root root     16128 Sep  3  2020 Dueling_1_B_2000_5.npy\n",
            "-rw------- 1 root root     16128 Sep  3  2020 Dueling_1_C_2000_5.npy\n",
            "-rw------- 1 root root     16128 Sep  3  2020 Dueling_2_B_2000_5.npy\n",
            "-rw------- 1 root root     16128 Sep  3  2020 Dueling_2_C_2000_5.npy\n",
            "-rw------- 1 root root 757939580 Feb 14 23:37 TCS_11_03_02_339640.csv\n",
            "-rw------- 1 root root 732586920 Mar 14 23:42 TCS_11_03_02_663167.csv\n",
            "-rw------- 1 root root 827403150 Apr 14 23:36 TCS_11_03_02_717062.csv\n"
          ],
          "name": "stdout"
        }
      ]
    },
    {
      "cell_type": "code",
      "metadata": {
        "id": "IxIwNUum-lYN"
      },
      "source": [
        "import pandas as pd\n",
        "\n",
        "file = '/gdrive/MyDrive/datasets/TCS_11_03_02_339640.csv'\n",
        "# convert from utf-8 to kr\n",
        "data = pd.read_csv(file, sep = ',', encoding='cp949')\n"
      ],
      "execution_count": 6,
      "outputs": []
    },
    {
      "cell_type": "code",
      "metadata": {
        "colab": {
          "base_uri": "https://localhost:8080/",
          "height": 204
        },
        "id": "PFwYZRpE-6t_",
        "outputId": "7dc1defe-abab-41a5-98ab-a1a1e1f57b77"
      },
      "source": [
        "data.head()"
      ],
      "execution_count": 7,
      "outputs": [
        {
          "output_type": "execute_result",
          "data": {
            "text/html": [
              "<div>\n",
              "<style scoped>\n",
              "    .dataframe tbody tr th:only-of-type {\n",
              "        vertical-align: middle;\n",
              "    }\n",
              "\n",
              "    .dataframe tbody tr th {\n",
              "        vertical-align: top;\n",
              "    }\n",
              "\n",
              "    .dataframe thead th {\n",
              "        text-align: right;\n",
              "    }\n",
              "</style>\n",
              "<table border=\"1\" class=\"dataframe\">\n",
              "  <thead>\n",
              "    <tr style=\"text-align: right;\">\n",
              "      <th></th>\n",
              "      <th>집계일자</th>\n",
              "      <th>집계시</th>\n",
              "      <th>출발영업소코드</th>\n",
              "      <th>도착영업소코드</th>\n",
              "      <th>TCS차종구분코드</th>\n",
              "      <th>통행시간</th>\n",
              "      <th>Unnamed: 6</th>\n",
              "    </tr>\n",
              "  </thead>\n",
              "  <tbody>\n",
              "    <tr>\n",
              "      <th>0</th>\n",
              "      <td>20210101</td>\n",
              "      <td>18</td>\n",
              "      <td>0</td>\n",
              "      <td>101</td>\n",
              "      <td>1</td>\n",
              "      <td>-1</td>\n",
              "      <td>NaN</td>\n",
              "    </tr>\n",
              "    <tr>\n",
              "      <th>1</th>\n",
              "      <td>20210101</td>\n",
              "      <td>18</td>\n",
              "      <td>0</td>\n",
              "      <td>101</td>\n",
              "      <td>3</td>\n",
              "      <td>-1</td>\n",
              "      <td>NaN</td>\n",
              "    </tr>\n",
              "    <tr>\n",
              "      <th>2</th>\n",
              "      <td>20210101</td>\n",
              "      <td>18</td>\n",
              "      <td>0</td>\n",
              "      <td>101</td>\n",
              "      <td>4</td>\n",
              "      <td>-1</td>\n",
              "      <td>NaN</td>\n",
              "    </tr>\n",
              "    <tr>\n",
              "      <th>3</th>\n",
              "      <td>20210101</td>\n",
              "      <td>9</td>\n",
              "      <td>0</td>\n",
              "      <td>101</td>\n",
              "      <td>3</td>\n",
              "      <td>-1</td>\n",
              "      <td>NaN</td>\n",
              "    </tr>\n",
              "    <tr>\n",
              "      <th>4</th>\n",
              "      <td>20210101</td>\n",
              "      <td>9</td>\n",
              "      <td>0</td>\n",
              "      <td>101</td>\n",
              "      <td>2</td>\n",
              "      <td>-1</td>\n",
              "      <td>NaN</td>\n",
              "    </tr>\n",
              "  </tbody>\n",
              "</table>\n",
              "</div>"
            ],
            "text/plain": [
              "       집계일자  집계시  출발영업소코드  도착영업소코드  TCS차종구분코드  통행시간  Unnamed: 6\n",
              "0  20210101   18        0      101          1    -1         NaN\n",
              "1  20210101   18        0      101          3    -1         NaN\n",
              "2  20210101   18        0      101          4    -1         NaN\n",
              "3  20210101    9        0      101          3    -1         NaN\n",
              "4  20210101    9        0      101          2    -1         NaN"
            ]
          },
          "metadata": {
            "tags": []
          },
          "execution_count": 7
        }
      ]
    },
    {
      "cell_type": "markdown",
      "metadata": {
        "id": "hE7ARamd_D9r"
      },
      "source": [
        "#2. Data manipulation\n"
      ]
    },
    {
      "cell_type": "code",
      "metadata": {
        "colab": {
          "base_uri": "https://localhost:8080/"
        },
        "id": "z73L_Ydq_JyX",
        "outputId": "e81bc773-67a2-4ec8-ec5d-1773190be029"
      },
      "source": [
        "data.info()"
      ],
      "execution_count": 8,
      "outputs": [
        {
          "output_type": "stream",
          "text": [
            "<class 'pandas.core.frame.DataFrame'>\n",
            "RangeIndex: 24767718 entries, 0 to 24767717\n",
            "Data columns (total 7 columns):\n",
            " #   Column      Dtype  \n",
            "---  ------      -----  \n",
            " 0   집계일자        int64  \n",
            " 1   집계시         int64  \n",
            " 2   출발영업소코드     int64  \n",
            " 3   도착영업소코드     int64  \n",
            " 4   TCS차종구분코드   int64  \n",
            " 5   통행시간        int64  \n",
            " 6   Unnamed: 6  float64\n",
            "dtypes: float64(1), int64(6)\n",
            "memory usage: 1.3 GB\n"
          ],
          "name": "stdout"
        }
      ]
    },
    {
      "cell_type": "code",
      "metadata": {
        "id": "5cXEhka__MN2"
      },
      "source": [
        "# Delete NaN\n",
        "data.pop('Unnamed: 6')\n",
        "# data.drop(['Unnamed : 6'], axis = 'columns')"
      ],
      "execution_count": null,
      "outputs": []
    },
    {
      "cell_type": "code",
      "metadata": {
        "colab": {
          "base_uri": "https://localhost:8080/",
          "height": 204
        },
        "id": "RM4TnHLd_YLZ",
        "outputId": "deae360f-e76f-4b84-c752-fc873a1ab11c"
      },
      "source": [
        "data.head()"
      ],
      "execution_count": 12,
      "outputs": [
        {
          "output_type": "execute_result",
          "data": {
            "text/html": [
              "<div>\n",
              "<style scoped>\n",
              "    .dataframe tbody tr th:only-of-type {\n",
              "        vertical-align: middle;\n",
              "    }\n",
              "\n",
              "    .dataframe tbody tr th {\n",
              "        vertical-align: top;\n",
              "    }\n",
              "\n",
              "    .dataframe thead th {\n",
              "        text-align: right;\n",
              "    }\n",
              "</style>\n",
              "<table border=\"1\" class=\"dataframe\">\n",
              "  <thead>\n",
              "    <tr style=\"text-align: right;\">\n",
              "      <th></th>\n",
              "      <th>집계일자</th>\n",
              "      <th>집계시</th>\n",
              "      <th>출발영업소코드</th>\n",
              "      <th>도착영업소코드</th>\n",
              "      <th>TCS차종구분코드</th>\n",
              "      <th>통행시간</th>\n",
              "    </tr>\n",
              "  </thead>\n",
              "  <tbody>\n",
              "    <tr>\n",
              "      <th>0</th>\n",
              "      <td>20210101</td>\n",
              "      <td>18</td>\n",
              "      <td>0</td>\n",
              "      <td>101</td>\n",
              "      <td>1</td>\n",
              "      <td>-1</td>\n",
              "    </tr>\n",
              "    <tr>\n",
              "      <th>1</th>\n",
              "      <td>20210101</td>\n",
              "      <td>18</td>\n",
              "      <td>0</td>\n",
              "      <td>101</td>\n",
              "      <td>3</td>\n",
              "      <td>-1</td>\n",
              "    </tr>\n",
              "    <tr>\n",
              "      <th>2</th>\n",
              "      <td>20210101</td>\n",
              "      <td>18</td>\n",
              "      <td>0</td>\n",
              "      <td>101</td>\n",
              "      <td>4</td>\n",
              "      <td>-1</td>\n",
              "    </tr>\n",
              "    <tr>\n",
              "      <th>3</th>\n",
              "      <td>20210101</td>\n",
              "      <td>9</td>\n",
              "      <td>0</td>\n",
              "      <td>101</td>\n",
              "      <td>3</td>\n",
              "      <td>-1</td>\n",
              "    </tr>\n",
              "    <tr>\n",
              "      <th>4</th>\n",
              "      <td>20210101</td>\n",
              "      <td>9</td>\n",
              "      <td>0</td>\n",
              "      <td>101</td>\n",
              "      <td>2</td>\n",
              "      <td>-1</td>\n",
              "    </tr>\n",
              "  </tbody>\n",
              "</table>\n",
              "</div>"
            ],
            "text/plain": [
              "       집계일자  집계시  출발영업소코드  도착영업소코드  TCS차종구분코드  통행시간\n",
              "0  20210101   18        0      101          1    -1\n",
              "1  20210101   18        0      101          3    -1\n",
              "2  20210101   18        0      101          4    -1\n",
              "3  20210101    9        0      101          3    -1\n",
              "4  20210101    9        0      101          2    -1"
            ]
          },
          "metadata": {
            "tags": []
          },
          "execution_count": 12
        }
      ]
    },
    {
      "cell_type": "code",
      "metadata": {
        "id": "fjCLs-nm_i3w"
      },
      "source": [
        "data_time = data[data['통행시간']>0]"
      ],
      "execution_count": 13,
      "outputs": []
    },
    {
      "cell_type": "code",
      "metadata": {
        "colab": {
          "base_uri": "https://localhost:8080/"
        },
        "id": "_59P5IvA_sJ_",
        "outputId": "43cad56c-c9a8-46a1-b997-6e124bb1257f"
      },
      "source": [
        "data_time['TCS차종구분코드'].unique()"
      ],
      "execution_count": 14,
      "outputs": [
        {
          "output_type": "execute_result",
          "data": {
            "text/plain": [
              "array([3, 1, 2, 6, 4, 5])"
            ]
          },
          "metadata": {
            "tags": []
          },
          "execution_count": 14
        }
      ]
    },
    {
      "cell_type": "markdown",
      "metadata": {
        "id": "1lQ3EX-d__rW"
      },
      "source": [
        "#3. Choose some datas"
      ]
    },
    {
      "cell_type": "code",
      "metadata": {
        "id": "AKyB9TzR_zj9"
      },
      "source": [
        "data_df = pd.DataFrame(data_time, columns=['출발영업소코드','도착영업소코드','통행시간','집계일자'])"
      ],
      "execution_count": 67,
      "outputs": []
    },
    {
      "cell_type": "code",
      "metadata": {
        "colab": {
          "base_uri": "https://localhost:8080/",
          "height": 204
        },
        "id": "-0rramk3AZTX",
        "outputId": "225ec3ce-c5d8-4153-e08e-c1178e64c9ec"
      },
      "source": [
        "data_df.head()"
      ],
      "execution_count": 68,
      "outputs": [
        {
          "output_type": "execute_result",
          "data": {
            "text/html": [
              "<div>\n",
              "<style scoped>\n",
              "    .dataframe tbody tr th:only-of-type {\n",
              "        vertical-align: middle;\n",
              "    }\n",
              "\n",
              "    .dataframe tbody tr th {\n",
              "        vertical-align: top;\n",
              "    }\n",
              "\n",
              "    .dataframe thead th {\n",
              "        text-align: right;\n",
              "    }\n",
              "</style>\n",
              "<table border=\"1\" class=\"dataframe\">\n",
              "  <thead>\n",
              "    <tr style=\"text-align: right;\">\n",
              "      <th></th>\n",
              "      <th>출발영업소코드</th>\n",
              "      <th>도착영업소코드</th>\n",
              "      <th>통행시간</th>\n",
              "      <th>집계일자</th>\n",
              "    </tr>\n",
              "  </thead>\n",
              "  <tbody>\n",
              "    <tr>\n",
              "      <th>7684</th>\n",
              "      <td>101</td>\n",
              "      <td>102</td>\n",
              "      <td>617</td>\n",
              "      <td>20210101</td>\n",
              "    </tr>\n",
              "    <tr>\n",
              "      <th>7686</th>\n",
              "      <td>101</td>\n",
              "      <td>102</td>\n",
              "      <td>601</td>\n",
              "      <td>20210101</td>\n",
              "    </tr>\n",
              "    <tr>\n",
              "      <th>7687</th>\n",
              "      <td>101</td>\n",
              "      <td>102</td>\n",
              "      <td>644</td>\n",
              "      <td>20210101</td>\n",
              "    </tr>\n",
              "    <tr>\n",
              "      <th>7688</th>\n",
              "      <td>101</td>\n",
              "      <td>102</td>\n",
              "      <td>600</td>\n",
              "      <td>20210101</td>\n",
              "    </tr>\n",
              "    <tr>\n",
              "      <th>7689</th>\n",
              "      <td>101</td>\n",
              "      <td>102</td>\n",
              "      <td>612</td>\n",
              "      <td>20210101</td>\n",
              "    </tr>\n",
              "  </tbody>\n",
              "</table>\n",
              "</div>"
            ],
            "text/plain": [
              "      출발영업소코드  도착영업소코드  통행시간      집계일자\n",
              "7684      101      102   617  20210101\n",
              "7686      101      102   601  20210101\n",
              "7687      101      102   644  20210101\n",
              "7688      101      102   600  20210101\n",
              "7689      101      102   612  20210101"
            ]
          },
          "metadata": {
            "tags": []
          },
          "execution_count": 68
        }
      ]
    },
    {
      "cell_type": "code",
      "metadata": {
        "colab": {
          "base_uri": "https://localhost:8080/"
        },
        "id": "f3Vc9BKdAeVV",
        "outputId": "73e5e74d-ec6b-4f91-8c4d-1076ddbcf975"
      },
      "source": [
        "data_df['출발영업소코드'].unique()"
      ],
      "execution_count": 17,
      "outputs": [
        {
          "output_type": "execute_result",
          "data": {
            "text/plain": [
              "array([101, 102, 103, 104, 105, 106, 107, 108, 109, 110, 111, 112, 113,\n",
              "       114, 115, 116, 117, 118, 119, 120, 121, 122, 123, 124, 125, 126,\n",
              "       127, 128, 129, 130, 131, 132, 133, 134, 135, 136, 137, 138, 139,\n",
              "       140, 142, 143, 144, 145, 146, 147, 148, 149, 150, 151, 152, 153,\n",
              "       154, 155, 156, 157, 158, 159, 160, 161, 162, 163, 164, 165, 166,\n",
              "       167, 168, 169, 170, 171, 172, 173, 174, 175, 176, 177, 178, 179,\n",
              "       180, 181, 182, 183, 184, 185, 186, 187, 188, 189, 190, 191, 192,\n",
              "       193, 194, 195, 196, 197, 198, 199, 200, 201, 202, 203, 204, 205,\n",
              "       206, 207, 208, 209, 210, 211, 212, 213, 214, 215, 216, 217, 218,\n",
              "       219, 220, 221, 222, 223, 224, 225, 226, 227, 228, 229, 230, 231,\n",
              "       232, 233, 234, 235, 236, 237, 238, 239, 240, 241, 242, 243, 244,\n",
              "       245, 246, 247, 248, 249, 250, 251, 252, 253, 254, 255, 256, 257,\n",
              "       258, 259, 260, 261, 262, 263, 264, 265, 266, 267, 268, 269, 270,\n",
              "       271, 272, 273, 274, 275, 276, 277, 278, 279, 280, 281, 282, 283,\n",
              "       284, 285, 286, 287, 288, 289, 290, 291, 292, 293, 294, 295, 296,\n",
              "       297, 298, 299, 500, 501, 502, 503, 504, 505, 506, 507, 508, 509,\n",
              "       510, 511, 512, 513, 514, 515, 516, 517, 518, 519, 520, 521, 522,\n",
              "       523, 524, 525, 526, 527, 528, 529, 530, 531, 532, 533, 534, 535,\n",
              "       536, 537, 538, 539, 540, 541, 542, 543, 544, 545, 546, 547, 548,\n",
              "       549, 550, 551, 552, 553, 554, 555, 556, 557, 558, 559, 560, 561,\n",
              "       562, 563, 564, 565, 566, 567, 568, 569, 570, 571, 572, 573, 574,\n",
              "       575, 576, 577, 578, 579, 580, 581, 582, 583, 584, 585, 586, 587,\n",
              "       588, 589, 590, 591, 592, 593, 594, 595, 597, 598, 599, 600, 601,\n",
              "       602, 603, 604, 605, 606, 607, 608, 609, 610, 611, 612, 613, 614,\n",
              "       615, 616, 617, 618, 619, 620, 621, 622, 623, 624, 625, 626, 627,\n",
              "       628, 629, 630, 631, 632, 633, 640, 641, 642, 643, 644, 645, 646,\n",
              "       647, 648, 649, 650, 651, 652, 653, 654, 655, 656, 657, 658, 659,\n",
              "       660, 661, 662, 663, 664, 665, 666, 667, 668, 669, 671, 672, 673,\n",
              "       675, 676, 677, 680, 682, 683, 684, 685, 686, 687, 688, 689, 691,\n",
              "       692, 693, 694, 695, 696, 697, 698, 699, 701, 702, 703, 704, 705,\n",
              "       706, 707, 708, 710, 712, 713, 714, 715, 716, 720, 722, 724, 725,\n",
              "       729, 730, 731, 732, 733, 735, 736, 741, 746, 747, 748, 749, 750,\n",
              "       752, 753, 754, 755, 756, 757, 760, 761, 762, 765, 766, 767, 768,\n",
              "       770, 771, 780, 840, 850, 851, 987, 981, 857, 876, 982, 983, 984,\n",
              "       985, 986, 758])"
            ]
          },
          "metadata": {
            "tags": []
          },
          "execution_count": 17
        }
      ]
    },
    {
      "cell_type": "code",
      "metadata": {
        "colab": {
          "base_uri": "https://localhost:8080/"
        },
        "id": "f7F5ELTUAntV",
        "outputId": "474ab103-cd62-414d-cb42-a8d1ec58b9f9"
      },
      "source": [
        "from_101 = data_df[data_df['출발영업소코드']==101]\n",
        "from_101_to_160 =from_101[data_df['도착영업소코드']==160]"
      ],
      "execution_count": 69,
      "outputs": [
        {
          "output_type": "stream",
          "text": [
            "/usr/local/lib/python3.7/dist-packages/ipykernel_launcher.py:2: UserWarning: Boolean Series key will be reindexed to match DataFrame index.\n",
            "  \n"
          ],
          "name": "stderr"
        }
      ]
    },
    {
      "cell_type": "code",
      "metadata": {
        "colab": {
          "base_uri": "https://localhost:8080/",
          "height": 204
        },
        "id": "7oUy3aAWCNWw",
        "outputId": "ce9f0ed8-979a-4992-a71e-05f2eea0da23"
      },
      "source": [
        "from_101_to_160.head()"
      ],
      "execution_count": 70,
      "outputs": [
        {
          "output_type": "execute_result",
          "data": {
            "text/html": [
              "<div>\n",
              "<style scoped>\n",
              "    .dataframe tbody tr th:only-of-type {\n",
              "        vertical-align: middle;\n",
              "    }\n",
              "\n",
              "    .dataframe tbody tr th {\n",
              "        vertical-align: top;\n",
              "    }\n",
              "\n",
              "    .dataframe thead th {\n",
              "        text-align: right;\n",
              "    }\n",
              "</style>\n",
              "<table border=\"1\" class=\"dataframe\">\n",
              "  <thead>\n",
              "    <tr style=\"text-align: right;\">\n",
              "      <th></th>\n",
              "      <th>출발영업소코드</th>\n",
              "      <th>도착영업소코드</th>\n",
              "      <th>통행시간</th>\n",
              "      <th>집계일자</th>\n",
              "    </tr>\n",
              "  </thead>\n",
              "  <tbody>\n",
              "    <tr>\n",
              "      <th>9471</th>\n",
              "      <td>101</td>\n",
              "      <td>160</td>\n",
              "      <td>7625</td>\n",
              "      <td>20210101</td>\n",
              "    </tr>\n",
              "    <tr>\n",
              "      <th>9473</th>\n",
              "      <td>101</td>\n",
              "      <td>160</td>\n",
              "      <td>8363</td>\n",
              "      <td>20210101</td>\n",
              "    </tr>\n",
              "    <tr>\n",
              "      <th>9474</th>\n",
              "      <td>101</td>\n",
              "      <td>160</td>\n",
              "      <td>8725</td>\n",
              "      <td>20210101</td>\n",
              "    </tr>\n",
              "    <tr>\n",
              "      <th>9475</th>\n",
              "      <td>101</td>\n",
              "      <td>160</td>\n",
              "      <td>7814</td>\n",
              "      <td>20210101</td>\n",
              "    </tr>\n",
              "    <tr>\n",
              "      <th>9476</th>\n",
              "      <td>101</td>\n",
              "      <td>160</td>\n",
              "      <td>8296</td>\n",
              "      <td>20210101</td>\n",
              "    </tr>\n",
              "  </tbody>\n",
              "</table>\n",
              "</div>"
            ],
            "text/plain": [
              "      출발영업소코드  도착영업소코드  통행시간      집계일자\n",
              "9471      101      160  7625  20210101\n",
              "9473      101      160  8363  20210101\n",
              "9474      101      160  8725  20210101\n",
              "9475      101      160  7814  20210101\n",
              "9476      101      160  8296  20210101"
            ]
          },
          "metadata": {
            "tags": []
          },
          "execution_count": 70
        }
      ]
    },
    {
      "cell_type": "code",
      "metadata": {
        "id": "NHd--TS1Cmfo"
      },
      "source": [
        "from_101_to_160.values"
      ],
      "execution_count": null,
      "outputs": []
    },
    {
      "cell_type": "code",
      "metadata": {
        "colab": {
          "base_uri": "https://localhost:8080/"
        },
        "id": "JjAUdltxCqXR",
        "outputId": "f2135489-9e18-4a21-c56c-93716cf898b5"
      },
      "source": [
        "from_101_to_160.value_counts()"
      ],
      "execution_count": 41,
      "outputs": [
        {
          "output_type": "execute_result",
          "data": {
            "text/plain": [
              "출발영업소코드  도착영업소코드  통행시간\n",
              "101      160      8665    2\n",
              "                  8070    2\n",
              "                  9059    2\n",
              "                  9412    2\n",
              "                  8700    2\n",
              "                         ..\n",
              "                  9123    1\n",
              "                  9081    1\n",
              "                  9071    1\n",
              "                  9056    1\n",
              "                  6265    1\n",
              "Length: 246, dtype: int64"
            ]
          },
          "metadata": {
            "tags": []
          },
          "execution_count": 41
        }
      ]
    },
    {
      "cell_type": "markdown",
      "metadata": {
        "id": "UgLowX5tCb83"
      },
      "source": [
        "#4. Grouping Data"
      ]
    },
    {
      "cell_type": "markdown",
      "metadata": {
        "id": "8kBBWS9VDqhD"
      },
      "source": [
        "Insert new column"
      ]
    },
    {
      "cell_type": "code",
      "metadata": {
        "colab": {
          "base_uri": "https://localhost:8080/"
        },
        "id": "_xFqabmSCZli",
        "outputId": "9945da72-0371-4cf6-e359-e3772c7442b7"
      },
      "source": [
        "# 0 is Monday and 6 is Sunday\n",
        "from_101_to_160['요일'] = pd.to_datetime(from_101_to_160['집계일자'], format = '%Y%m%d').dt.dayofweek"
      ],
      "execution_count": 71,
      "outputs": [
        {
          "output_type": "stream",
          "text": [
            "/usr/local/lib/python3.7/dist-packages/ipykernel_launcher.py:2: SettingWithCopyWarning: \n",
            "A value is trying to be set on a copy of a slice from a DataFrame.\n",
            "Try using .loc[row_indexer,col_indexer] = value instead\n",
            "\n",
            "See the caveats in the documentation: https://pandas.pydata.org/pandas-docs/stable/user_guide/indexing.html#returning-a-view-versus-a-copy\n",
            "  \n"
          ],
          "name": "stderr"
        }
      ]
    },
    {
      "cell_type": "code",
      "metadata": {
        "colab": {
          "base_uri": "https://localhost:8080/",
          "height": 204
        },
        "id": "InTI9xWZDRml",
        "outputId": "48d88575-d04d-4b8e-9849-ec31698dde38"
      },
      "source": [
        "from_101_to_160.head()"
      ],
      "execution_count": 72,
      "outputs": [
        {
          "output_type": "execute_result",
          "data": {
            "text/html": [
              "<div>\n",
              "<style scoped>\n",
              "    .dataframe tbody tr th:only-of-type {\n",
              "        vertical-align: middle;\n",
              "    }\n",
              "\n",
              "    .dataframe tbody tr th {\n",
              "        vertical-align: top;\n",
              "    }\n",
              "\n",
              "    .dataframe thead th {\n",
              "        text-align: right;\n",
              "    }\n",
              "</style>\n",
              "<table border=\"1\" class=\"dataframe\">\n",
              "  <thead>\n",
              "    <tr style=\"text-align: right;\">\n",
              "      <th></th>\n",
              "      <th>출발영업소코드</th>\n",
              "      <th>도착영업소코드</th>\n",
              "      <th>통행시간</th>\n",
              "      <th>집계일자</th>\n",
              "      <th>요일</th>\n",
              "    </tr>\n",
              "  </thead>\n",
              "  <tbody>\n",
              "    <tr>\n",
              "      <th>9471</th>\n",
              "      <td>101</td>\n",
              "      <td>160</td>\n",
              "      <td>7625</td>\n",
              "      <td>20210101</td>\n",
              "      <td>4</td>\n",
              "    </tr>\n",
              "    <tr>\n",
              "      <th>9473</th>\n",
              "      <td>101</td>\n",
              "      <td>160</td>\n",
              "      <td>8363</td>\n",
              "      <td>20210101</td>\n",
              "      <td>4</td>\n",
              "    </tr>\n",
              "    <tr>\n",
              "      <th>9474</th>\n",
              "      <td>101</td>\n",
              "      <td>160</td>\n",
              "      <td>8725</td>\n",
              "      <td>20210101</td>\n",
              "      <td>4</td>\n",
              "    </tr>\n",
              "    <tr>\n",
              "      <th>9475</th>\n",
              "      <td>101</td>\n",
              "      <td>160</td>\n",
              "      <td>7814</td>\n",
              "      <td>20210101</td>\n",
              "      <td>4</td>\n",
              "    </tr>\n",
              "    <tr>\n",
              "      <th>9476</th>\n",
              "      <td>101</td>\n",
              "      <td>160</td>\n",
              "      <td>8296</td>\n",
              "      <td>20210101</td>\n",
              "      <td>4</td>\n",
              "    </tr>\n",
              "  </tbody>\n",
              "</table>\n",
              "</div>"
            ],
            "text/plain": [
              "      출발영업소코드  도착영업소코드  통행시간      집계일자  요일\n",
              "9471      101      160  7625  20210101   4\n",
              "9473      101      160  8363  20210101   4\n",
              "9474      101      160  8725  20210101   4\n",
              "9475      101      160  7814  20210101   4\n",
              "9476      101      160  8296  20210101   4"
            ]
          },
          "metadata": {
            "tags": []
          },
          "execution_count": 72
        }
      ]
    },
    {
      "cell_type": "code",
      "metadata": {
        "colab": {
          "base_uri": "https://localhost:8080/",
          "height": 419
        },
        "id": "btDMYwH-DwR6",
        "outputId": "19985611-c48d-44fe-ab1b-020254e1c5a8"
      },
      "source": [
        "from_101_to_160.sort_values(by='요일')"
      ],
      "execution_count": 73,
      "outputs": [
        {
          "output_type": "execute_result",
          "data": {
            "text/html": [
              "<div>\n",
              "<style scoped>\n",
              "    .dataframe tbody tr th:only-of-type {\n",
              "        vertical-align: middle;\n",
              "    }\n",
              "\n",
              "    .dataframe tbody tr th {\n",
              "        vertical-align: top;\n",
              "    }\n",
              "\n",
              "    .dataframe thead th {\n",
              "        text-align: right;\n",
              "    }\n",
              "</style>\n",
              "<table border=\"1\" class=\"dataframe\">\n",
              "  <thead>\n",
              "    <tr style=\"text-align: right;\">\n",
              "      <th></th>\n",
              "      <th>출발영업소코드</th>\n",
              "      <th>도착영업소코드</th>\n",
              "      <th>통행시간</th>\n",
              "      <th>집계일자</th>\n",
              "      <th>요일</th>\n",
              "    </tr>\n",
              "  </thead>\n",
              "  <tbody>\n",
              "    <tr>\n",
              "      <th>13315037</th>\n",
              "      <td>101</td>\n",
              "      <td>160</td>\n",
              "      <td>9412</td>\n",
              "      <td>20210119</td>\n",
              "      <td>1</td>\n",
              "    </tr>\n",
              "    <tr>\n",
              "      <th>14475981</th>\n",
              "      <td>101</td>\n",
              "      <td>160</td>\n",
              "      <td>8060</td>\n",
              "      <td>20210119</td>\n",
              "      <td>1</td>\n",
              "    </tr>\n",
              "    <tr>\n",
              "      <th>13315049</th>\n",
              "      <td>101</td>\n",
              "      <td>160</td>\n",
              "      <td>7996</td>\n",
              "      <td>20210119</td>\n",
              "      <td>1</td>\n",
              "    </tr>\n",
              "    <tr>\n",
              "      <th>13315043</th>\n",
              "      <td>101</td>\n",
              "      <td>160</td>\n",
              "      <td>7958</td>\n",
              "      <td>20210119</td>\n",
              "      <td>1</td>\n",
              "    </tr>\n",
              "    <tr>\n",
              "      <th>13315040</th>\n",
              "      <td>101</td>\n",
              "      <td>160</td>\n",
              "      <td>8467</td>\n",
              "      <td>20210119</td>\n",
              "      <td>1</td>\n",
              "    </tr>\n",
              "    <tr>\n",
              "      <th>...</th>\n",
              "      <td>...</td>\n",
              "      <td>...</td>\n",
              "      <td>...</td>\n",
              "      <td>...</td>\n",
              "      <td>...</td>\n",
              "    </tr>\n",
              "    <tr>\n",
              "      <th>17570894</th>\n",
              "      <td>101</td>\n",
              "      <td>160</td>\n",
              "      <td>7471</td>\n",
              "      <td>20210124</td>\n",
              "      <td>6</td>\n",
              "    </tr>\n",
              "    <tr>\n",
              "      <th>17570892</th>\n",
              "      <td>101</td>\n",
              "      <td>160</td>\n",
              "      <td>7993</td>\n",
              "      <td>20210124</td>\n",
              "      <td>6</td>\n",
              "    </tr>\n",
              "    <tr>\n",
              "      <th>17570890</th>\n",
              "      <td>101</td>\n",
              "      <td>160</td>\n",
              "      <td>7863</td>\n",
              "      <td>20210124</td>\n",
              "      <td>6</td>\n",
              "    </tr>\n",
              "    <tr>\n",
              "      <th>13303747</th>\n",
              "      <td>101</td>\n",
              "      <td>160</td>\n",
              "      <td>9819</td>\n",
              "      <td>20210117</td>\n",
              "      <td>6</td>\n",
              "    </tr>\n",
              "    <tr>\n",
              "      <th>13171918</th>\n",
              "      <td>101</td>\n",
              "      <td>160</td>\n",
              "      <td>8788</td>\n",
              "      <td>20210117</td>\n",
              "      <td>6</td>\n",
              "    </tr>\n",
              "  </tbody>\n",
              "</table>\n",
              "<p>254 rows × 5 columns</p>\n",
              "</div>"
            ],
            "text/plain": [
              "          출발영업소코드  도착영업소코드  통행시간      집계일자  요일\n",
              "13315037      101      160  9412  20210119   1\n",
              "14475981      101      160  8060  20210119   1\n",
              "13315049      101      160  7996  20210119   1\n",
              "13315043      101      160  7958  20210119   1\n",
              "13315040      101      160  8467  20210119   1\n",
              "...           ...      ...   ...       ...  ..\n",
              "17570894      101      160  7471  20210124   6\n",
              "17570892      101      160  7993  20210124   6\n",
              "17570890      101      160  7863  20210124   6\n",
              "13303747      101      160  9819  20210117   6\n",
              "13171918      101      160  8788  20210117   6\n",
              "\n",
              "[254 rows x 5 columns]"
            ]
          },
          "metadata": {
            "tags": []
          },
          "execution_count": 73
        }
      ]
    },
    {
      "cell_type": "code",
      "metadata": {
        "id": "HgvLJqN3D6_K"
      },
      "source": [
        "df = from_101_to_160.groupby(['요일','집계일자'])"
      ],
      "execution_count": 83,
      "outputs": []
    },
    {
      "cell_type": "code",
      "metadata": {
        "colab": {
          "base_uri": "https://localhost:8080/",
          "height": 419
        },
        "id": "VocwrQ9bIkZF",
        "outputId": "6e1e0850-dac5-4cf0-a7e1-a504e44c43cf"
      },
      "source": [
        "df.head()"
      ],
      "execution_count": 84,
      "outputs": [
        {
          "output_type": "execute_result",
          "data": {
            "text/html": [
              "<div>\n",
              "<style scoped>\n",
              "    .dataframe tbody tr th:only-of-type {\n",
              "        vertical-align: middle;\n",
              "    }\n",
              "\n",
              "    .dataframe tbody tr th {\n",
              "        vertical-align: top;\n",
              "    }\n",
              "\n",
              "    .dataframe thead th {\n",
              "        text-align: right;\n",
              "    }\n",
              "</style>\n",
              "<table border=\"1\" class=\"dataframe\">\n",
              "  <thead>\n",
              "    <tr style=\"text-align: right;\">\n",
              "      <th></th>\n",
              "      <th>출발영업소코드</th>\n",
              "      <th>도착영업소코드</th>\n",
              "      <th>통행시간</th>\n",
              "      <th>집계일자</th>\n",
              "      <th>요일</th>\n",
              "    </tr>\n",
              "  </thead>\n",
              "  <tbody>\n",
              "    <tr>\n",
              "      <th>9471</th>\n",
              "      <td>101</td>\n",
              "      <td>160</td>\n",
              "      <td>7625</td>\n",
              "      <td>20210101</td>\n",
              "      <td>4</td>\n",
              "    </tr>\n",
              "    <tr>\n",
              "      <th>9473</th>\n",
              "      <td>101</td>\n",
              "      <td>160</td>\n",
              "      <td>8363</td>\n",
              "      <td>20210101</td>\n",
              "      <td>4</td>\n",
              "    </tr>\n",
              "    <tr>\n",
              "      <th>9474</th>\n",
              "      <td>101</td>\n",
              "      <td>160</td>\n",
              "      <td>8725</td>\n",
              "      <td>20210101</td>\n",
              "      <td>4</td>\n",
              "    </tr>\n",
              "    <tr>\n",
              "      <th>9475</th>\n",
              "      <td>101</td>\n",
              "      <td>160</td>\n",
              "      <td>7814</td>\n",
              "      <td>20210101</td>\n",
              "      <td>4</td>\n",
              "    </tr>\n",
              "    <tr>\n",
              "      <th>9476</th>\n",
              "      <td>101</td>\n",
              "      <td>160</td>\n",
              "      <td>8296</td>\n",
              "      <td>20210101</td>\n",
              "      <td>4</td>\n",
              "    </tr>\n",
              "    <tr>\n",
              "      <th>...</th>\n",
              "      <td>...</td>\n",
              "      <td>...</td>\n",
              "      <td>...</td>\n",
              "      <td>...</td>\n",
              "      <td>...</td>\n",
              "    </tr>\n",
              "    <tr>\n",
              "      <th>22628407</th>\n",
              "      <td>101</td>\n",
              "      <td>160</td>\n",
              "      <td>21137</td>\n",
              "      <td>20210130</td>\n",
              "      <td>5</td>\n",
              "    </tr>\n",
              "    <tr>\n",
              "      <th>23429730</th>\n",
              "      <td>101</td>\n",
              "      <td>160</td>\n",
              "      <td>9608</td>\n",
              "      <td>20210131</td>\n",
              "      <td>6</td>\n",
              "    </tr>\n",
              "    <tr>\n",
              "      <th>23429733</th>\n",
              "      <td>101</td>\n",
              "      <td>160</td>\n",
              "      <td>7287</td>\n",
              "      <td>20210131</td>\n",
              "      <td>6</td>\n",
              "    </tr>\n",
              "    <tr>\n",
              "      <th>23429734</th>\n",
              "      <td>101</td>\n",
              "      <td>160</td>\n",
              "      <td>10076</td>\n",
              "      <td>20210131</td>\n",
              "      <td>6</td>\n",
              "    </tr>\n",
              "    <tr>\n",
              "      <th>23429735</th>\n",
              "      <td>101</td>\n",
              "      <td>160</td>\n",
              "      <td>8038</td>\n",
              "      <td>20210131</td>\n",
              "      <td>6</td>\n",
              "    </tr>\n",
              "  </tbody>\n",
              "</table>\n",
              "<p>109 rows × 5 columns</p>\n",
              "</div>"
            ],
            "text/plain": [
              "          출발영업소코드  도착영업소코드   통행시간      집계일자  요일\n",
              "9471          101      160   7625  20210101   4\n",
              "9473          101      160   8363  20210101   4\n",
              "9474          101      160   8725  20210101   4\n",
              "9475          101      160   7814  20210101   4\n",
              "9476          101      160   8296  20210101   4\n",
              "...           ...      ...    ...       ...  ..\n",
              "22628407      101      160  21137  20210130   5\n",
              "23429730      101      160   9608  20210131   6\n",
              "23429733      101      160   7287  20210131   6\n",
              "23429734      101      160  10076  20210131   6\n",
              "23429735      101      160   8038  20210131   6\n",
              "\n",
              "[109 rows x 5 columns]"
            ]
          },
          "metadata": {
            "tags": []
          },
          "execution_count": 84
        }
      ]
    },
    {
      "cell_type": "code",
      "metadata": {
        "colab": {
          "base_uri": "https://localhost:8080/"
        },
        "id": "yVunySORI50n",
        "outputId": "908f0481-51aa-4ef5-b34b-c2e4c3fa0dd8"
      },
      "source": [
        "df.size()"
      ],
      "execution_count": 85,
      "outputs": [
        {
          "output_type": "execute_result",
          "data": {
            "text/plain": [
              "요일  집계일자    \n",
              "1   20210105    11\n",
              "    20210119     9\n",
              "2   20210106    10\n",
              "    20210113     7\n",
              "    20210120    11\n",
              "    20210127    16\n",
              "3   20210107     7\n",
              "    20210114     6\n",
              "    20210121    10\n",
              "    20210128     6\n",
              "4   20210101    13\n",
              "    20210115     8\n",
              "    20210122    18\n",
              "5   20210102    15\n",
              "    20210116    15\n",
              "    20210123    24\n",
              "    20210130    12\n",
              "6   20210103     7\n",
              "    20210110    13\n",
              "    20210117    17\n",
              "    20210124    15\n",
              "    20210131     4\n",
              "dtype: int64"
            ]
          },
          "metadata": {
            "tags": []
          },
          "execution_count": 85
        }
      ]
    },
    {
      "cell_type": "code",
      "metadata": {
        "colab": {
          "base_uri": "https://localhost:8080/",
          "height": 762
        },
        "id": "HPRb3NOlI7_U",
        "outputId": "84bf8016-210a-41e7-9362-d1a0d6398058"
      },
      "source": [
        "df.sum()  #max, mean, min"
      ],
      "execution_count": 86,
      "outputs": [
        {
          "output_type": "execute_result",
          "data": {
            "text/html": [
              "<div>\n",
              "<style scoped>\n",
              "    .dataframe tbody tr th:only-of-type {\n",
              "        vertical-align: middle;\n",
              "    }\n",
              "\n",
              "    .dataframe tbody tr th {\n",
              "        vertical-align: top;\n",
              "    }\n",
              "\n",
              "    .dataframe thead th {\n",
              "        text-align: right;\n",
              "    }\n",
              "</style>\n",
              "<table border=\"1\" class=\"dataframe\">\n",
              "  <thead>\n",
              "    <tr style=\"text-align: right;\">\n",
              "      <th></th>\n",
              "      <th></th>\n",
              "      <th>출발영업소코드</th>\n",
              "      <th>도착영업소코드</th>\n",
              "      <th>통행시간</th>\n",
              "    </tr>\n",
              "    <tr>\n",
              "      <th>요일</th>\n",
              "      <th>집계일자</th>\n",
              "      <th></th>\n",
              "      <th></th>\n",
              "      <th></th>\n",
              "    </tr>\n",
              "  </thead>\n",
              "  <tbody>\n",
              "    <tr>\n",
              "      <th rowspan=\"2\" valign=\"top\">1</th>\n",
              "      <th>20210105</th>\n",
              "      <td>1111</td>\n",
              "      <td>1760</td>\n",
              "      <td>104020</td>\n",
              "    </tr>\n",
              "    <tr>\n",
              "      <th>20210119</th>\n",
              "      <td>909</td>\n",
              "      <td>1440</td>\n",
              "      <td>74333</td>\n",
              "    </tr>\n",
              "    <tr>\n",
              "      <th rowspan=\"4\" valign=\"top\">2</th>\n",
              "      <th>20210106</th>\n",
              "      <td>1010</td>\n",
              "      <td>1600</td>\n",
              "      <td>83804</td>\n",
              "    </tr>\n",
              "    <tr>\n",
              "      <th>20210113</th>\n",
              "      <td>707</td>\n",
              "      <td>1120</td>\n",
              "      <td>67048</td>\n",
              "    </tr>\n",
              "    <tr>\n",
              "      <th>20210120</th>\n",
              "      <td>1111</td>\n",
              "      <td>1760</td>\n",
              "      <td>105200</td>\n",
              "    </tr>\n",
              "    <tr>\n",
              "      <th>20210127</th>\n",
              "      <td>1616</td>\n",
              "      <td>2560</td>\n",
              "      <td>123196</td>\n",
              "    </tr>\n",
              "    <tr>\n",
              "      <th rowspan=\"4\" valign=\"top\">3</th>\n",
              "      <th>20210107</th>\n",
              "      <td>707</td>\n",
              "      <td>1120</td>\n",
              "      <td>92889</td>\n",
              "    </tr>\n",
              "    <tr>\n",
              "      <th>20210114</th>\n",
              "      <td>606</td>\n",
              "      <td>960</td>\n",
              "      <td>67114</td>\n",
              "    </tr>\n",
              "    <tr>\n",
              "      <th>20210121</th>\n",
              "      <td>1010</td>\n",
              "      <td>1600</td>\n",
              "      <td>78548</td>\n",
              "    </tr>\n",
              "    <tr>\n",
              "      <th>20210128</th>\n",
              "      <td>606</td>\n",
              "      <td>960</td>\n",
              "      <td>47328</td>\n",
              "    </tr>\n",
              "    <tr>\n",
              "      <th rowspan=\"3\" valign=\"top\">4</th>\n",
              "      <th>20210101</th>\n",
              "      <td>1313</td>\n",
              "      <td>2080</td>\n",
              "      <td>108772</td>\n",
              "    </tr>\n",
              "    <tr>\n",
              "      <th>20210115</th>\n",
              "      <td>808</td>\n",
              "      <td>1280</td>\n",
              "      <td>80926</td>\n",
              "    </tr>\n",
              "    <tr>\n",
              "      <th>20210122</th>\n",
              "      <td>1818</td>\n",
              "      <td>2880</td>\n",
              "      <td>164899</td>\n",
              "    </tr>\n",
              "    <tr>\n",
              "      <th rowspan=\"4\" valign=\"top\">5</th>\n",
              "      <th>20210102</th>\n",
              "      <td>1515</td>\n",
              "      <td>2400</td>\n",
              "      <td>131272</td>\n",
              "    </tr>\n",
              "    <tr>\n",
              "      <th>20210116</th>\n",
              "      <td>1515</td>\n",
              "      <td>2400</td>\n",
              "      <td>126508</td>\n",
              "    </tr>\n",
              "    <tr>\n",
              "      <th>20210123</th>\n",
              "      <td>2424</td>\n",
              "      <td>3840</td>\n",
              "      <td>211172</td>\n",
              "    </tr>\n",
              "    <tr>\n",
              "      <th>20210130</th>\n",
              "      <td>1212</td>\n",
              "      <td>1920</td>\n",
              "      <td>126185</td>\n",
              "    </tr>\n",
              "    <tr>\n",
              "      <th rowspan=\"5\" valign=\"top\">6</th>\n",
              "      <th>20210103</th>\n",
              "      <td>707</td>\n",
              "      <td>1120</td>\n",
              "      <td>54245</td>\n",
              "    </tr>\n",
              "    <tr>\n",
              "      <th>20210110</th>\n",
              "      <td>1313</td>\n",
              "      <td>2080</td>\n",
              "      <td>111880</td>\n",
              "    </tr>\n",
              "    <tr>\n",
              "      <th>20210117</th>\n",
              "      <td>1717</td>\n",
              "      <td>2720</td>\n",
              "      <td>154307</td>\n",
              "    </tr>\n",
              "    <tr>\n",
              "      <th>20210124</th>\n",
              "      <td>1515</td>\n",
              "      <td>2400</td>\n",
              "      <td>118979</td>\n",
              "    </tr>\n",
              "    <tr>\n",
              "      <th>20210131</th>\n",
              "      <td>404</td>\n",
              "      <td>640</td>\n",
              "      <td>35009</td>\n",
              "    </tr>\n",
              "  </tbody>\n",
              "</table>\n",
              "</div>"
            ],
            "text/plain": [
              "             출발영업소코드  도착영업소코드    통행시간\n",
              "요일 집계일자                              \n",
              "1  20210105     1111     1760  104020\n",
              "   20210119      909     1440   74333\n",
              "2  20210106     1010     1600   83804\n",
              "   20210113      707     1120   67048\n",
              "   20210120     1111     1760  105200\n",
              "   20210127     1616     2560  123196\n",
              "3  20210107      707     1120   92889\n",
              "   20210114      606      960   67114\n",
              "   20210121     1010     1600   78548\n",
              "   20210128      606      960   47328\n",
              "4  20210101     1313     2080  108772\n",
              "   20210115      808     1280   80926\n",
              "   20210122     1818     2880  164899\n",
              "5  20210102     1515     2400  131272\n",
              "   20210116     1515     2400  126508\n",
              "   20210123     2424     3840  211172\n",
              "   20210130     1212     1920  126185\n",
              "6  20210103      707     1120   54245\n",
              "   20210110     1313     2080  111880\n",
              "   20210117     1717     2720  154307\n",
              "   20210124     1515     2400  118979\n",
              "   20210131      404      640   35009"
            ]
          },
          "metadata": {
            "tags": []
          },
          "execution_count": 86
        }
      ]
    },
    {
      "cell_type": "markdown",
      "metadata": {
        "id": "a2lrdxxaJL5K"
      },
      "source": [
        "#5. Save the data"
      ]
    },
    {
      "cell_type": "code",
      "metadata": {
        "id": "Dq-J9VPfJO6m"
      },
      "source": [
        "result = \"/gdrive/MyDrive/datasets/data_202101.csv\"\n",
        "from_101_to_160.to_csv(output, index=None, header=True)"
      ],
      "execution_count": null,
      "outputs": []
    }
  ]
}